{
 "cells": [
  {
   "cell_type": "markdown",
   "metadata": {},
   "source": [
    "# Machine Learning to distinguish presence Heart Disease"
   ]
  },
  {
   "cell_type": "code",
   "execution_count": 1,
   "metadata": {},
   "outputs": [],
   "source": [
    "#data analysis and wrangling\n",
    "import pandas as pd\n",
    "import numpy as np\n",
    "\n",
    "#visualizing the data\n",
    "import matplotlib.pyplot as plt\n",
    "%matplotlib inline\n",
    "import seaborn as sns\n",
    "\n",
    "#model developing-machine learning\n",
    "import sklearn\n",
    "from scipy.stats import zscore                                                          #for removing the outliers\n",
    "from sklearn.preprocessing import StandardScaler                                        #for standardizing the input dataset\n",
    "from sklearn.model_selection import train_test_split                                    #to train the model\n",
    "from sklearn.linear_model import LogisticRegression\n",
    "from sklearn.neighbors import KNeighborsClassifier\n",
    "from sklearn.naive_bayes import GaussianNB\n",
    "from sklearn.svm import SVC\n",
    "from sklearn import tree\n",
    "from sklearn.model_selection import cross_val_score\n",
    "from sklearn.metrics import confusion_matrix,classification_report,accuracy_score       #for reporting purposes\n",
    "\n",
    "#boosting techniques\n",
    "from sklearn.ensemble import AdaBoostClassifier, GradientBoostingClassifier, RandomForestClassifier, ExtraTreesClassifier\n",
    "\n",
    "#saving the model using joblib\n",
    "import pickle\n",
    "#for filtering the warnings\n",
    "import warnings\n",
    "warnings.filterwarnings(\"ignore\")"
   ]
  },
  {
   "cell_type": "code",
   "execution_count": 8,
   "metadata": {},
   "outputs": [],
   "source": [
    "#acquiring the data\n",
    "heartdisease_df=pd.read_csv(\"heartdisease_data.csv\")"
   ]
  },
  {
   "cell_type": "code",
   "execution_count": 9,
   "metadata": {},
   "outputs": [
    {
     "data": {
      "text/html": [
       "<div>\n",
       "<style scoped>\n",
       "    .dataframe tbody tr th:only-of-type {\n",
       "        vertical-align: middle;\n",
       "    }\n",
       "\n",
       "    .dataframe tbody tr th {\n",
       "        vertical-align: top;\n",
       "    }\n",
       "\n",
       "    .dataframe thead th {\n",
       "        text-align: right;\n",
       "    }\n",
       "</style>\n",
       "<table border=\"1\" class=\"dataframe\">\n",
       "  <thead>\n",
       "    <tr style=\"text-align: right;\">\n",
       "      <th></th>\n",
       "      <th>age</th>\n",
       "      <th>sex</th>\n",
       "      <th>cp</th>\n",
       "      <th>trestbps</th>\n",
       "      <th>chol</th>\n",
       "      <th>fbs</th>\n",
       "      <th>restecg</th>\n",
       "      <th>thalach</th>\n",
       "      <th>exang</th>\n",
       "      <th>oldpeak</th>\n",
       "      <th>slope</th>\n",
       "      <th>ca</th>\n",
       "      <th>thal</th>\n",
       "      <th>num</th>\n",
       "    </tr>\n",
       "  </thead>\n",
       "  <tbody>\n",
       "    <tr>\n",
       "      <th>0</th>\n",
       "      <td>63</td>\n",
       "      <td>1</td>\n",
       "      <td>4</td>\n",
       "      <td>140</td>\n",
       "      <td>260</td>\n",
       "      <td>0</td>\n",
       "      <td>1</td>\n",
       "      <td>112</td>\n",
       "      <td>1</td>\n",
       "      <td>3</td>\n",
       "      <td>2</td>\n",
       "      <td>?</td>\n",
       "      <td>?</td>\n",
       "      <td>2</td>\n",
       "    </tr>\n",
       "    <tr>\n",
       "      <th>1</th>\n",
       "      <td>44</td>\n",
       "      <td>1</td>\n",
       "      <td>4</td>\n",
       "      <td>130</td>\n",
       "      <td>209</td>\n",
       "      <td>0</td>\n",
       "      <td>1</td>\n",
       "      <td>127</td>\n",
       "      <td>0</td>\n",
       "      <td>0</td>\n",
       "      <td>?</td>\n",
       "      <td>?</td>\n",
       "      <td>?</td>\n",
       "      <td>0</td>\n",
       "    </tr>\n",
       "    <tr>\n",
       "      <th>2</th>\n",
       "      <td>60</td>\n",
       "      <td>1</td>\n",
       "      <td>4</td>\n",
       "      <td>132</td>\n",
       "      <td>218</td>\n",
       "      <td>0</td>\n",
       "      <td>1</td>\n",
       "      <td>140</td>\n",
       "      <td>1</td>\n",
       "      <td>1.5</td>\n",
       "      <td>3</td>\n",
       "      <td>?</td>\n",
       "      <td>?</td>\n",
       "      <td>2</td>\n",
       "    </tr>\n",
       "    <tr>\n",
       "      <th>3</th>\n",
       "      <td>55</td>\n",
       "      <td>1</td>\n",
       "      <td>4</td>\n",
       "      <td>142</td>\n",
       "      <td>228</td>\n",
       "      <td>0</td>\n",
       "      <td>1</td>\n",
       "      <td>149</td>\n",
       "      <td>1</td>\n",
       "      <td>2.5</td>\n",
       "      <td>1</td>\n",
       "      <td>?</td>\n",
       "      <td>?</td>\n",
       "      <td>1</td>\n",
       "    </tr>\n",
       "    <tr>\n",
       "      <th>4</th>\n",
       "      <td>66</td>\n",
       "      <td>1</td>\n",
       "      <td>3</td>\n",
       "      <td>110</td>\n",
       "      <td>213</td>\n",
       "      <td>1</td>\n",
       "      <td>2</td>\n",
       "      <td>99</td>\n",
       "      <td>1</td>\n",
       "      <td>1.3</td>\n",
       "      <td>2</td>\n",
       "      <td>?</td>\n",
       "      <td>?</td>\n",
       "      <td>0</td>\n",
       "    </tr>\n",
       "  </tbody>\n",
       "</table>\n",
       "</div>"
      ],
      "text/plain": [
       "   age  sex  cp trestbps chol fbs  restecg thalach exang oldpeak slope ca  \\\n",
       "0   63    1   4      140  260   0        1     112     1       3     2  ?   \n",
       "1   44    1   4      130  209   0        1     127     0       0     ?  ?   \n",
       "2   60    1   4      132  218   0        1     140     1     1.5     3  ?   \n",
       "3   55    1   4      142  228   0        1     149     1     2.5     1  ?   \n",
       "4   66    1   3      110  213   1        2      99     1     1.3     2  ?   \n",
       "\n",
       "  thal  num  \n",
       "0    ?    2  \n",
       "1    ?    0  \n",
       "2    ?    2  \n",
       "3    ?    1  \n",
       "4    ?    0  "
      ]
     },
     "execution_count": 9,
     "metadata": {},
     "output_type": "execute_result"
    }
   ],
   "source": [
    "heartdisease_df.head()"
   ]
  },
  {
   "cell_type": "code",
   "execution_count": 10,
   "metadata": {},
   "outputs": [
    {
     "data": {
      "text/plain": [
       "(200, 14)"
      ]
     },
     "execution_count": 10,
     "metadata": {},
     "output_type": "execute_result"
    }
   ],
   "source": [
    "#checking the structure of the dataset\n",
    "heartdisease_df.shape"
   ]
  },
  {
   "cell_type": "code",
   "execution_count": 11,
   "metadata": {},
   "outputs": [
    {
     "data": {
      "text/plain": [
       "age         0\n",
       "sex         0\n",
       "cp          0\n",
       "trestbps    0\n",
       "chol        0\n",
       "fbs         0\n",
       "restecg     0\n",
       "thalach     0\n",
       "exang       0\n",
       "oldpeak     0\n",
       "slope       0\n",
       "ca          0\n",
       "thal        0\n",
       "num         0\n",
       "dtype: int64"
      ]
     },
     "execution_count": 11,
     "metadata": {},
     "output_type": "execute_result"
    }
   ],
   "source": [
    "#checking if any null values present in the dataset\n",
    "heartdisease_df.isnull().sum()"
   ]
  },
  {
   "cell_type": "code",
   "execution_count": 12,
   "metadata": {},
   "outputs": [
    {
     "name": "stdout",
     "output_type": "stream",
     "text": [
      "<class 'pandas.core.frame.DataFrame'>\n",
      "RangeIndex: 200 entries, 0 to 199\n",
      "Data columns (total 14 columns):\n",
      " #   Column    Non-Null Count  Dtype \n",
      "---  ------    --------------  ----- \n",
      " 0   age       200 non-null    int64 \n",
      " 1   sex       200 non-null    int64 \n",
      " 2   cp        200 non-null    int64 \n",
      " 3   trestbps  200 non-null    object\n",
      " 4   chol      200 non-null    object\n",
      " 5   fbs       200 non-null    object\n",
      " 6   restecg   200 non-null    int64 \n",
      " 7   thalach   200 non-null    object\n",
      " 8   exang     200 non-null    object\n",
      " 9   oldpeak   200 non-null    object\n",
      " 10  slope     200 non-null    object\n",
      " 11  ca        200 non-null    object\n",
      " 12  thal      200 non-null    object\n",
      " 13  num       200 non-null    int64 \n",
      "dtypes: int64(5), object(9)\n",
      "memory usage: 22.0+ KB\n"
     ]
    }
   ],
   "source": [
    "heartdisease_df.info()"
   ]
  },
  {
   "cell_type": "code",
   "execution_count": 17,
   "metadata": {},
   "outputs": [
    {
     "data": {
      "text/html": [
       "<div>\n",
       "<style scoped>\n",
       "    .dataframe tbody tr th:only-of-type {\n",
       "        vertical-align: middle;\n",
       "    }\n",
       "\n",
       "    .dataframe tbody tr th {\n",
       "        vertical-align: top;\n",
       "    }\n",
       "\n",
       "    .dataframe thead th {\n",
       "        text-align: right;\n",
       "    }\n",
       "</style>\n",
       "<table border=\"1\" class=\"dataframe\">\n",
       "  <thead>\n",
       "    <tr style=\"text-align: right;\">\n",
       "      <th></th>\n",
       "      <th>age</th>\n",
       "      <th>sex</th>\n",
       "      <th>cp</th>\n",
       "      <th>trestbps</th>\n",
       "      <th>chol</th>\n",
       "      <th>fbs</th>\n",
       "      <th>restecg</th>\n",
       "      <th>thalach</th>\n",
       "      <th>exang</th>\n",
       "      <th>oldpeak</th>\n",
       "      <th>slope</th>\n",
       "      <th>ca</th>\n",
       "      <th>thal</th>\n",
       "      <th>num</th>\n",
       "    </tr>\n",
       "  </thead>\n",
       "  <tbody>\n",
       "    <tr>\n",
       "      <th>55</th>\n",
       "      <td>30</td>\n",
       "      <td>1</td>\n",
       "      <td>3</td>\n",
       "      <td>22</td>\n",
       "      <td>0</td>\n",
       "      <td>0</td>\n",
       "      <td>0</td>\n",
       "      <td>24</td>\n",
       "      <td>1</td>\n",
       "      <td>11</td>\n",
       "      <td>1</td>\n",
       "      <td>1</td>\n",
       "      <td>3</td>\n",
       "      <td>2</td>\n",
       "    </tr>\n",
       "    <tr>\n",
       "      <th>42</th>\n",
       "      <td>23</td>\n",
       "      <td>1</td>\n",
       "      <td>3</td>\n",
       "      <td>40</td>\n",
       "      <td>0</td>\n",
       "      <td>1</td>\n",
       "      <td>1</td>\n",
       "      <td>51</td>\n",
       "      <td>0</td>\n",
       "      <td>6</td>\n",
       "      <td>1</td>\n",
       "      <td>1</td>\n",
       "      <td>2</td>\n",
       "      <td>3</td>\n",
       "    </tr>\n",
       "    <tr>\n",
       "      <th>62</th>\n",
       "      <td>19</td>\n",
       "      <td>1</td>\n",
       "      <td>3</td>\n",
       "      <td>17</td>\n",
       "      <td>88</td>\n",
       "      <td>2</td>\n",
       "      <td>1</td>\n",
       "      <td>34</td>\n",
       "      <td>1</td>\n",
       "      <td>9</td>\n",
       "      <td>1</td>\n",
       "      <td>1</td>\n",
       "      <td>3</td>\n",
       "      <td>1</td>\n",
       "    </tr>\n",
       "    <tr>\n",
       "      <th>153</th>\n",
       "      <td>17</td>\n",
       "      <td>1</td>\n",
       "      <td>3</td>\n",
       "      <td>32</td>\n",
       "      <td>34</td>\n",
       "      <td>0</td>\n",
       "      <td>0</td>\n",
       "      <td>6</td>\n",
       "      <td>1</td>\n",
       "      <td>10</td>\n",
       "      <td>1</td>\n",
       "      <td>1</td>\n",
       "      <td>3</td>\n",
       "      <td>1</td>\n",
       "    </tr>\n",
       "    <tr>\n",
       "      <th>13</th>\n",
       "      <td>25</td>\n",
       "      <td>1</td>\n",
       "      <td>2</td>\n",
       "      <td>40</td>\n",
       "      <td>0</td>\n",
       "      <td>0</td>\n",
       "      <td>2</td>\n",
       "      <td>59</td>\n",
       "      <td>2</td>\n",
       "      <td>14</td>\n",
       "      <td>3</td>\n",
       "      <td>1</td>\n",
       "      <td>3</td>\n",
       "      <td>1</td>\n",
       "    </tr>\n",
       "  </tbody>\n",
       "</table>\n",
       "</div>"
      ],
      "text/plain": [
       "     age  sex  cp  trestbps  chol  fbs  restecg  thalach  exang  oldpeak  \\\n",
       "55    30    1   3        22     0    0        0       24      1       11   \n",
       "42    23    1   3        40     0    1        1       51      0        6   \n",
       "62    19    1   3        17    88    2        1       34      1        9   \n",
       "153   17    1   3        32    34    0        0        6      1       10   \n",
       "13    25    1   2        40     0    0        2       59      2       14   \n",
       "\n",
       "     slope  ca  thal  num  \n",
       "55       1   1     3    2  \n",
       "42       1   1     2    3  \n",
       "62       1   1     3    1  \n",
       "153      1   1     3    1  \n",
       "13       3   1     3    1  "
      ]
     },
     "execution_count": 17,
     "metadata": {},
     "output_type": "execute_result"
    }
   ],
   "source": [
    "#converting sting data to int or float data using label encoder\n",
    "from sklearn.preprocessing import LabelEncoder\n",
    "le_x = LabelEncoder() \n",
    "for col in heartdisease_df.columns:\n",
    "    heartdisease_df[col] = le_x.fit_transform(heartdisease_df[col])\n",
    "heartdisease_df.sample(5)"
   ]
  },
  {
   "cell_type": "code",
   "execution_count": 18,
   "metadata": {},
   "outputs": [
    {
     "data": {
      "text/plain": [
       "<matplotlib.axes._subplots.AxesSubplot at 0x2076d9c8cc8>"
      ]
     },
     "execution_count": 18,
     "metadata": {},
     "output_type": "execute_result"
    },
    {
     "data": {
      "image/png": "[encoded data removed]",
      "text/plain": [
       "<Figure size 720x360 with 2 Axes>"
      ]
     },
     "metadata": {
      "needs_background": "light"
     },
     "output_type": "display_data"
    }
   ],
   "source": [
    "#checking for the correlation\n",
    "corr_hmap=heartdisease_df.corr()\n",
    "plt.figure(figsize=(10,5))\n",
    "sns.heatmap(corr_hmap,annot=True)"
   ]
  },
  {
   "cell_type": "code",
   "execution_count": 19,
   "metadata": {},
   "outputs": [
    {
     "data": {
      "text/plain": [
       "<matplotlib.axes._subplots.AxesSubplot at 0x2076dc20088>"
      ]
     },
     "execution_count": 19,
     "metadata": {},
     "output_type": "execute_result"
    },
    {
     "data": {
      "image/png": "[encoded data removed]",
      "text/plain": [
       "<Figure size 432x288 with 1 Axes>"
      ]
     },
     "metadata": {
      "needs_background": "light"
     },
     "output_type": "display_data"
    }
   ],
   "source": [
    "#vizualizing the distribution\n",
    "sns.distplot(heartdisease_df,kde=True)"
   ]
  },
  {
   "cell_type": "code",
   "execution_count": 20,
   "metadata": {},
   "outputs": [
    {
     "data": {
      "text/plain": [
       "age            AxesSubplot(0.125,0.799681;0.168478x0.0803191)\n",
       "sex         AxesSubplot(0.327174,0.799681;0.168478x0.0803191)\n",
       "cp          AxesSubplot(0.529348,0.799681;0.168478x0.0803191)\n",
       "trestbps    AxesSubplot(0.731522,0.799681;0.168478x0.0803191)\n",
       "chol           AxesSubplot(0.125,0.703298;0.168478x0.0803191)\n",
       "fbs         AxesSubplot(0.327174,0.703298;0.168478x0.0803191)\n",
       "restecg     AxesSubplot(0.529348,0.703298;0.168478x0.0803191)\n",
       "thalach     AxesSubplot(0.731522,0.703298;0.168478x0.0803191)\n",
       "exang          AxesSubplot(0.125,0.606915;0.168478x0.0803191)\n",
       "oldpeak     AxesSubplot(0.327174,0.606915;0.168478x0.0803191)\n",
       "slope       AxesSubplot(0.529348,0.606915;0.168478x0.0803191)\n",
       "ca          AxesSubplot(0.731522,0.606915;0.168478x0.0803191)\n",
       "thal           AxesSubplot(0.125,0.510532;0.168478x0.0803191)\n",
       "num         AxesSubplot(0.327174,0.510532;0.168478x0.0803191)\n",
       "dtype: object"
      ]
     },
     "execution_count": 20,
     "metadata": {},
     "output_type": "execute_result"
    },
    {
     "data": {
      "image/png": "[encoded data removed]",
      "text/plain": [
       "<Figure size 1080x864 with 32 Axes>"
      ]
     },
     "metadata": {
      "needs_background": "light"
     },
     "output_type": "display_data"
    }
   ],
   "source": [
    "#checking for the outliers\n",
    "heartdisease_df.plot(kind='box',subplots=True,layout=(8,4),figsize=(15,12))"
   ]
  },
  {
   "cell_type": "code",
   "execution_count": 21,
   "metadata": {},
   "outputs": [
    {
     "data": {
      "text/plain": [
       "age       -0.404091\n",
       "sex       -5.552105\n",
       "cp        -1.648734\n",
       "restecg    0.391463\n",
       "num        0.297393\n",
       "dtype: float64"
      ]
     },
     "execution_count": 21,
     "metadata": {},
     "output_type": "execute_result"
    }
   ],
   "source": [
    "#checking the skewness before removing the outliers\n",
    "heartdisease_df.skew()"
   ]
  },
  {
   "cell_type": "code",
   "execution_count": 22,
   "metadata": {},
   "outputs": [
    {
     "data": {
      "image/png": "[encoded data removed]",
      "text/plain": [
       "<Figure size 720x360 with 1 Axes>"
      ]
     },
     "metadata": {
      "needs_background": "light"
     },
     "output_type": "display_data"
    },
    {
     "data": {
      "image/png": "[encoded data removed]",
      "text/plain": [
       "<Figure size 720x360 with 1 Axes>"
      ]
     },
     "metadata": {
      "needs_background": "light"
     },
     "output_type": "display_data"
    },
    {
     "data": {
      "image/png": "[encoded data removed]",
      "text/plain": [
       "<Figure size 720x360 with 1 Axes>"
      ]
     },
     "metadata": {
      "needs_background": "light"
     },
     "output_type": "display_data"
    },
    {
     "data": {
      "image/png": "[encoded data removed]",
      "text/plain": [
       "<Figure size 720x360 with 1 Axes>"
      ]
     },
     "metadata": {
      "needs_background": "light"
     },
     "output_type": "display_data"
    }
   ],
   "source": [
    "#printing different plot w.r.t survived column\n",
    "columns=['age','sex','cp','restecg']\n",
    "for i in range(len(columns)):\n",
    "    fig,ax=plt.subplots(figsize=(10,5))\n",
    "    sns.countplot(data=heartdisease_df,x=columns[i])"
   ]
  },
  {
   "cell_type": "code",
   "execution_count": 23,
   "metadata": {},
   "outputs": [
    {
     "name": "stdout",
     "output_type": "stream",
     "text": [
      "(200, 14)\n",
      "(180, 14)\n"
     ]
    }
   ],
   "source": [
    "#removing outliers\n",
    "z_score=np.abs(zscore(heartdisease_df))\n",
    "print(heartdisease_df.shape)\n",
    "heartdisease_df_final=heartdisease_df.loc[(z_score<3).all(axis=1)]\n",
    "print(heartdisease_df_final.shape)"
   ]
  },
  {
   "cell_type": "code",
   "execution_count": 24,
   "metadata": {},
   "outputs": [
    {
     "data": {
      "text/plain": [
       "age        -0.283468\n",
       "sex         0.000000\n",
       "cp         -1.353890\n",
       "trestbps   -0.163104\n",
       "chol        0.416594\n",
       "fbs         1.005818\n",
       "restecg     0.350479\n",
       "thalach    -0.044131\n",
       "exang      -0.024886\n",
       "oldpeak    -0.161707\n",
       "slope      -0.604877\n",
       "ca          0.000000\n",
       "thal       -2.574026\n",
       "num         0.244243\n",
       "dtype: float64"
      ]
     },
     "execution_count": 24,
     "metadata": {},
     "output_type": "execute_result"
    }
   ],
   "source": [
    "#checking the skewness after removing the outliers\n",
    "heartdisease_df_final.skew()"
   ]
  },
  {
   "cell_type": "code",
   "execution_count": 45,
   "metadata": {},
   "outputs": [
    {
     "name": "stdout",
     "output_type": "stream",
     "text": [
      "(200, 5)\n",
      "(200,)\n"
     ]
    }
   ],
   "source": [
    "#Now separating input and output variable\n",
    "x=avacado_df.drop(['chol','fbs','trestbps','thalach','exang','oldpeak','slope','ca','thal'],axis=1)\n",
    "y=avacado_df['num']\n",
    "print(x.shape)\n",
    "print(y.shape)"
   ]
  },
  {
   "cell_type": "code",
   "execution_count": 46,
   "metadata": {},
   "outputs": [
    {
     "data": {
      "text/plain": [
       "age        int64\n",
       "sex        int64\n",
       "cp         int64\n",
       "restecg    int64\n",
       "num        int64\n",
       "dtype: object"
      ]
     },
     "execution_count": 46,
     "metadata": {},
     "output_type": "execute_result"
    }
   ],
   "source": [
    "x.dtypes"
   ]
  },
  {
   "cell_type": "code",
   "execution_count": 47,
   "metadata": {},
   "outputs": [
    {
     "data": {
      "text/plain": [
       "array([[ 0.46842053,  0.17586311,  0.62365375,  0.38870891,  0.3946109 ],\n",
       "       [-1.96993293,  0.17586311,  0.62365375,  0.38870891, -1.24960118],\n",
       "       [ 0.08341736,  0.17586311,  0.62365375,  0.38870891,  0.3946109 ],\n",
       "       [-0.55825461,  0.17586311,  0.62365375,  0.38870891, -0.42749514],\n",
       "       [ 0.85342371,  0.17586311, -0.63625282,  1.85553498, -1.24960118],\n",
       "       [ 0.85342371,  0.17586311, -0.63625282,  0.38870891, -1.24960118],\n",
       "       [ 0.72508932,  0.17586311,  0.62365375,  0.38870891,  1.21671694],\n",
       "       [ 0.08341736,  0.17586311, -0.63625282,  0.38870891, -1.24960118],\n",
       "       [ 0.08341736,  0.17586311, -0.63625282, -1.07811716,  1.21671694],\n",
       "       [ 0.08341736,  0.17586311, -1.8961594 ,  0.38870891, -0.42749514],\n",
       "       [-0.42992022,  0.17586311, -1.8961594 ,  0.38870891, -1.24960118],\n",
       "       [-0.04491704,  0.17586311,  0.62365375,  0.38870891, -0.42749514],\n",
       "       [ 0.34008614,  0.17586311,  0.62365375, -1.07811716, -0.42749514],\n",
       "       [ 0.46842053,  0.17586311, -0.63625282,  1.85553498, -0.42749514],\n",
       "       [-0.30158582,  0.17586311,  0.62365375,  0.38870891, -0.42749514],\n",
       "       [ 0.34008614,  0.17586311,  0.62365375,  0.38870891, -1.24960118],\n",
       "       [ 0.46842053,  0.17586311,  0.62365375, -1.07811716,  2.03882298],\n",
       "       [-1.71326414,  0.17586311,  0.62365375, -1.07811716, -0.42749514],\n",
       "       [ 0.46842053,  0.17586311,  0.62365375,  0.38870891, -1.24960118],\n",
       "       [ 0.08341736,  0.17586311,  0.62365375,  0.38870891, -1.24960118],\n",
       "       [-0.17325143,  0.17586311,  0.62365375, -1.07811716,  0.3946109 ],\n",
       "       [ 0.59675493,  0.17586311,  0.62365375,  0.38870891, -0.42749514],\n",
       "       [ 0.46842053,  0.17586311, -0.63625282,  0.38870891,  1.21671694],\n",
       "       [ 1.88009885,  0.17586311, -0.63625282, -1.07811716, -1.24960118],\n",
       "       [-0.94325779,  0.17586311, -0.63625282,  0.38870891,  0.3946109 ],\n",
       "       [ 1.23842689,  0.17586311,  0.62365375,  0.38870891,  0.3946109 ],\n",
       "       [-1.07159218,  0.17586311,  0.62365375,  0.38870891,  0.3946109 ],\n",
       "       [ 0.08341736,  0.17586311,  0.62365375,  0.38870891, -0.42749514],\n",
       "       [-0.42992022,  0.17586311,  0.62365375, -1.07811716, -0.42749514],\n",
       "       [-0.55825461,  0.17586311, -0.63625282,  0.38870891,  1.21671694],\n",
       "       [-0.686589  ,  0.17586311,  0.62365375,  0.38870891,  1.21671694],\n",
       "       [ 2.26510203,  0.17586311,  0.62365375,  0.38870891,  1.21671694],\n",
       "       [ 0.46842053,  0.17586311,  0.62365375, -1.07811716,  1.21671694],\n",
       "       [-0.55825461,  0.17586311, -0.63625282, -1.07811716,  1.21671694],\n",
       "       [-0.94325779,  0.17586311, -0.63625282, -1.07811716,  0.3946109 ],\n",
       "       [ 0.59675493,  0.17586311,  0.62365375,  0.38870891,  1.21671694],\n",
       "       [ 0.08341736,  0.17586311,  0.62365375,  0.38870891,  0.3946109 ],\n",
       "       [ 0.08341736,  0.17586311,  0.62365375, -1.07811716, -1.24960118],\n",
       "       [-0.17325143,  0.17586311,  0.62365375, -1.07811716, -0.42749514],\n",
       "       [-0.04491704,  0.17586311,  0.62365375,  0.38870891, -1.24960118],\n",
       "       [ 0.21175175,  0.17586311, -0.63625282, -1.07811716,  1.21671694],\n",
       "       [-2.4832705 ,  0.17586311,  0.62365375, -1.07811716, -0.42749514],\n",
       "       [ 0.21175175,  0.17586311,  0.62365375,  0.38870891,  1.21671694],\n",
       "       [-2.3549361 ,  0.17586311,  0.62365375,  0.38870891, -1.24960118],\n",
       "       [-0.30158582,  0.17586311,  0.62365375,  0.38870891,  2.03882298],\n",
       "       [ 0.46842053,  0.17586311,  0.62365375, -1.07811716,  0.3946109 ],\n",
       "       [-0.04491704,  0.17586311,  0.62365375, -1.07811716, -0.42749514],\n",
       "       [-1.07159218,  0.17586311,  0.62365375, -1.07811716, -1.24960118],\n",
       "       [-0.04491704,  0.17586311, -0.63625282, -1.07811716,  0.3946109 ],\n",
       "       [-2.22660171,  0.17586311, -0.63625282, -1.07811716, -1.24960118],\n",
       "       [-0.55825461,  0.17586311, -0.63625282,  0.38870891, -0.42749514],\n",
       "       [ 0.46842053, -5.6862407 , -1.8961594 , -1.07811716, -1.24960118],\n",
       "       [ 0.34008614,  0.17586311,  0.62365375,  0.38870891,  0.3946109 ],\n",
       "       [-0.42992022,  0.17586311, -1.8961594 , -1.07811716, -1.24960118],\n",
       "       [-0.81492339,  0.17586311,  0.62365375, -1.07811716, -0.42749514],\n",
       "       [ 1.1100925 ,  0.17586311,  0.62365375, -1.07811716,  0.3946109 ],\n",
       "       [-0.81492339,  0.17586311,  0.62365375,  0.38870891,  0.3946109 ],\n",
       "       [ 0.08341736,  0.17586311, -0.63625282,  0.38870891,  1.21671694],\n",
       "       [ 0.34008614,  0.17586311, -1.8961594 , -1.07811716, -1.24960118],\n",
       "       [-0.04491704,  0.17586311,  0.62365375,  1.85553498, -0.42749514],\n",
       "       [-1.07159218,  0.17586311,  0.62365375,  1.85553498, -1.24960118],\n",
       "       [ 0.21175175,  0.17586311,  0.62365375, -1.07811716,  0.3946109 ],\n",
       "       [-0.30158582,  0.17586311,  0.62365375,  0.38870891, -0.42749514],\n",
       "       [-0.42992022,  0.17586311, -0.63625282,  1.85553498,  2.03882298],\n",
       "       [-0.17325143,  0.17586311, -1.8961594 , -1.07811716,  0.3946109 ],\n",
       "       [ 1.23842689,  0.17586311, -0.63625282,  0.38870891,  0.3946109 ],\n",
       "       [ 0.9817581 ,  0.17586311, -3.15606597, -1.07811716,  1.21671694],\n",
       "       [-0.17325143,  0.17586311,  0.62365375,  1.85553498, -0.42749514],\n",
       "       [ 0.72508932,  0.17586311,  0.62365375, -1.07811716, -0.42749514],\n",
       "       [ 0.46842053,  0.17586311, -1.8961594 ,  0.38870891, -0.42749514],\n",
       "       [-0.55825461,  0.17586311, -1.8961594 ,  0.38870891, -1.24960118],\n",
       "       [-0.30158582,  0.17586311,  0.62365375,  0.38870891,  0.3946109 ],\n",
       "       [ 0.72508932,  0.17586311, -3.15606597, -1.07811716, -1.24960118],\n",
       "       [-0.686589  ,  0.17586311,  0.62365375, -1.07811716,  1.21671694],\n",
       "       [ 1.62343007,  0.17586311, -0.63625282, -1.07811716,  1.21671694],\n",
       "       [ 2.00843324,  0.17586311,  0.62365375,  0.38870891, -0.42749514],\n",
       "       [-1.32826096,  0.17586311, -3.15606597,  0.38870891,  0.3946109 ],\n",
       "       [-1.07159218,  0.17586311, -0.63625282, -1.07811716,  1.21671694],\n",
       "       [ 0.08341736,  0.17586311,  0.62365375, -1.07811716,  0.3946109 ],\n",
       "       [ 0.59675493, -5.6862407 ,  0.62365375, -1.07811716, -0.42749514],\n",
       "       [-0.17325143,  0.17586311,  0.62365375, -1.07811716, -1.24960118],\n",
       "       [ 0.21175175,  0.17586311,  0.62365375, -1.07811716,  0.3946109 ],\n",
       "       [ 0.9817581 ,  0.17586311,  0.62365375,  0.38870891,  0.3946109 ],\n",
       "       [ 0.34008614,  0.17586311,  0.62365375, -1.07811716,  0.3946109 ],\n",
       "       [ 0.72508932,  0.17586311,  0.62365375, -1.07811716,  2.03882298],\n",
       "       [ 0.46842053,  0.17586311,  0.62365375, -1.07811716,  0.3946109 ],\n",
       "       [ 1.23842689,  0.17586311,  0.62365375,  0.38870891,  1.21671694],\n",
       "       [-1.07159218,  0.17586311,  0.62365375,  0.38870891, -1.24960118],\n",
       "       [ 0.34008614,  0.17586311,  0.62365375, -1.07811716, -0.42749514],\n",
       "       [-0.55825461,  0.17586311, -0.63625282,  0.38870891, -0.42749514],\n",
       "       [ 2.00843324,  0.17586311,  0.62365375, -1.07811716,  1.21671694],\n",
       "       [-2.4832705 ,  0.17586311, -0.63625282, -1.07811716, -1.24960118],\n",
       "       [ 0.9817581 ,  0.17586311,  0.62365375, -1.07811716,  1.21671694],\n",
       "       [-0.17325143,  0.17586311,  0.62365375, -1.07811716, -0.42749514],\n",
       "       [ 0.08341736,  0.17586311,  0.62365375, -1.07811716, -1.24960118],\n",
       "       [ 0.46842053,  0.17586311,  0.62365375,  0.38870891,  1.21671694],\n",
       "       [-3.12494246,  0.17586311, -0.63625282,  0.38870891, -1.24960118],\n",
       "       [ 0.34008614,  0.17586311, -3.15606597,  0.38870891, -0.42749514],\n",
       "       [-2.09826732,  0.17586311,  0.62365375, -1.07811716, -0.42749514],\n",
       "       [ 0.46842053,  0.17586311, -0.63625282,  0.38870891, -1.24960118],\n",
       "       [ 1.1100925 ,  0.17586311, -0.63625282, -1.07811716, -0.42749514],\n",
       "       [ 0.72508932,  0.17586311,  0.62365375, -1.07811716,  1.21671694],\n",
       "       [-1.45659536,  0.17586311, -0.63625282,  0.38870891, -0.42749514],\n",
       "       [ 0.46842053,  0.17586311,  0.62365375,  0.38870891, -0.42749514],\n",
       "       [ 0.59675493,  0.17586311,  0.62365375,  0.38870891, -1.24960118],\n",
       "       [ 0.21175175,  0.17586311,  0.62365375,  0.38870891,  1.21671694],\n",
       "       [-1.19992657,  0.17586311,  0.62365375,  1.85553498, -0.42749514],\n",
       "       [-0.04491704,  0.17586311,  0.62365375, -1.07811716, -0.42749514],\n",
       "       [-0.55825461,  0.17586311,  0.62365375,  0.38870891, -1.24960118],\n",
       "       [-1.84159853,  0.17586311, -0.63625282, -1.07811716, -1.24960118],\n",
       "       [ 0.72508932,  0.17586311,  0.62365375,  1.85553498,  1.21671694],\n",
       "       [ 0.21175175,  0.17586311, -1.8961594 , -1.07811716, -1.24960118],\n",
       "       [-1.32826096,  0.17586311, -0.63625282, -1.07811716,  1.21671694],\n",
       "       [ 1.62343007,  0.17586311,  0.62365375, -1.07811716, -0.42749514],\n",
       "       [-1.19992657,  0.17586311,  0.62365375, -1.07811716, -0.42749514],\n",
       "       [ 0.59675493,  0.17586311,  0.62365375,  0.38870891,  1.21671694],\n",
       "       [-0.55825461,  0.17586311,  0.62365375,  0.38870891,  0.3946109 ],\n",
       "       [ 0.46842053,  0.17586311,  0.62365375,  0.38870891,  0.3946109 ],\n",
       "       [-0.04491704,  0.17586311,  0.62365375, -1.07811716,  1.21671694],\n",
       "       [-0.42992022,  0.17586311,  0.62365375,  1.85553498, -0.42749514],\n",
       "       [ 0.34008614,  0.17586311, -0.63625282,  0.38870891,  0.3946109 ],\n",
       "       [ 1.88009885,  0.17586311,  0.62365375,  0.38870891,  1.21671694],\n",
       "       [-0.686589  ,  0.17586311,  0.62365375, -1.07811716, -0.42749514],\n",
       "       [-0.30158582,  0.17586311,  0.62365375,  1.85553498, -1.24960118],\n",
       "       [ 0.34008614,  0.17586311, -0.63625282,  0.38870891, -0.42749514],\n",
       "       [ 2.13676764,  0.17586311, -0.63625282,  1.85553498,  2.03882298],\n",
       "       [-0.686589  , -5.6862407 ,  0.62365375, -1.07811716, -0.42749514],\n",
       "       [ 1.36676128,  0.17586311,  0.62365375,  0.38870891,  0.3946109 ],\n",
       "       [ 0.21175175, -5.6862407 , -1.8961594 , -1.07811716, -1.24960118],\n",
       "       [-1.45659536,  0.17586311,  0.62365375,  0.38870891, -1.24960118],\n",
       "       [-1.45659536,  0.17586311, -0.63625282,  0.38870891, -0.42749514],\n",
       "       [ 0.21175175,  0.17586311, -3.15606597,  0.38870891,  1.21671694],\n",
       "       [ 0.85342371,  0.17586311,  0.62365375, -1.07811716, -0.42749514],\n",
       "       [ 1.1100925 ,  0.17586311, -3.15606597,  0.38870891, -1.24960118],\n",
       "       [-0.55825461,  0.17586311,  0.62365375, -1.07811716,  1.21671694],\n",
       "       [ 0.34008614,  0.17586311, -0.63625282,  1.85553498, -1.24960118],\n",
       "       [ 1.49509567,  0.17586311, -0.63625282, -1.07811716,  1.21671694],\n",
       "       [ 1.88009885,  0.17586311, -3.15606597, -1.07811716,  1.21671694],\n",
       "       [-0.81492339,  0.17586311, -0.63625282,  0.38870891, -1.24960118],\n",
       "       [-0.17325143,  0.17586311, -0.63625282,  0.38870891,  0.3946109 ],\n",
       "       [ 2.00843324,  0.17586311,  0.62365375, -1.07811716, -1.24960118],\n",
       "       [-0.42992022,  0.17586311, -0.63625282,  0.38870891,  2.03882298],\n",
       "       [-0.17325143,  0.17586311, -0.63625282,  0.38870891,  0.3946109 ],\n",
       "       [ 0.59675493,  0.17586311,  0.62365375, -1.07811716,  2.03882298],\n",
       "       [-0.686589  ,  0.17586311, -0.63625282,  0.38870891, -1.24960118],\n",
       "       [-0.686589  ,  0.17586311, -1.8961594 ,  0.38870891, -1.24960118],\n",
       "       [-0.04491704,  0.17586311,  0.62365375, -1.07811716, -1.24960118],\n",
       "       [-0.55825461,  0.17586311,  0.62365375,  0.38870891, -0.42749514],\n",
       "       [-0.30158582,  0.17586311,  0.62365375,  0.38870891,  1.21671694],\n",
       "       [ 0.21175175,  0.17586311,  0.62365375,  0.38870891,  1.21671694],\n",
       "       [-2.3549361 ,  0.17586311,  0.62365375, -1.07811716, -1.24960118],\n",
       "       [ 1.49509567,  0.17586311,  0.62365375,  0.38870891,  1.21671694],\n",
       "       [-2.73993928,  0.17586311,  0.62365375, -1.07811716, -0.42749514],\n",
       "       [-0.55825461,  0.17586311,  0.62365375, -1.07811716, -0.42749514],\n",
       "       [-0.42992022,  0.17586311,  0.62365375,  0.38870891,  0.3946109 ],\n",
       "       [ 1.23842689,  0.17586311,  0.62365375, -1.07811716,  0.3946109 ],\n",
       "       [ 0.59675493,  0.17586311,  0.62365375,  0.38870891,  0.3946109 ],\n",
       "       [ 1.62343007,  0.17586311,  0.62365375,  1.85553498,  0.3946109 ],\n",
       "       [ 1.23842689,  0.17586311,  0.62365375,  0.38870891,  0.3946109 ],\n",
       "       [-0.42992022,  0.17586311,  0.62365375, -1.07811716, -0.42749514],\n",
       "       [ 0.34008614,  0.17586311,  0.62365375,  0.38870891,  2.03882298],\n",
       "       [ 0.9817581 ,  0.17586311,  0.62365375, -1.07811716,  1.21671694],\n",
       "       [-0.30158582,  0.17586311,  0.62365375,  1.85553498,  1.21671694],\n",
       "       [ 1.23842689,  0.17586311,  0.62365375,  0.38870891,  1.21671694],\n",
       "       [-1.07159218,  0.17586311,  0.62365375,  1.85553498, -0.42749514],\n",
       "       [-1.45659536,  0.17586311,  0.62365375, -1.07811716,  1.21671694],\n",
       "       [ 1.23842689,  0.17586311,  0.62365375,  1.85553498,  0.3946109 ],\n",
       "       [ 1.23842689,  0.17586311, -0.63625282,  1.85553498, -1.24960118],\n",
       "       [ 0.59675493,  0.17586311,  0.62365375,  0.38870891,  0.3946109 ],\n",
       "       [-0.30158582,  0.17586311, -1.8961594 ,  0.38870891, -0.42749514],\n",
       "       [-0.81492339,  0.17586311,  0.62365375, -1.07811716, -0.42749514],\n",
       "       [-2.86827367,  0.17586311, -0.63625282,  1.85553498, -1.24960118],\n",
       "       [ 0.9817581 ,  0.17586311,  0.62365375,  0.38870891,  1.21671694],\n",
       "       [ 1.88009885,  0.17586311, -0.63625282, -1.07811716, -0.42749514],\n",
       "       [ 0.46842053,  0.17586311, -1.8961594 ,  0.38870891, -1.24960118],\n",
       "       [-0.17325143,  0.17586311,  0.62365375,  0.38870891, -1.24960118],\n",
       "       [ 0.21175175,  0.17586311,  0.62365375,  1.85553498,  2.03882298],\n",
       "       [ 0.59675493,  0.17586311,  0.62365375,  1.85553498,  0.3946109 ],\n",
       "       [-0.17325143,  0.17586311,  0.62365375,  1.85553498,  1.21671694],\n",
       "       [ 0.08341736,  0.17586311,  0.62365375,  1.85553498, -0.42749514],\n",
       "       [-0.30158582,  0.17586311,  0.62365375,  1.85553498, -0.42749514],\n",
       "       [-0.55825461,  0.17586311, -0.63625282,  0.38870891, -1.24960118],\n",
       "       [-0.55825461,  0.17586311,  0.62365375,  1.85553498, -0.42749514],\n",
       "       [-0.42992022,  0.17586311,  0.62365375, -1.07811716, -0.42749514],\n",
       "       [-0.30158582,  0.17586311,  0.62365375,  0.38870891, -1.24960118],\n",
       "       [ 0.21175175,  0.17586311, -0.63625282, -1.07811716, -0.42749514],\n",
       "       [ 0.21175175,  0.17586311, -0.63625282, -1.07811716,  1.21671694],\n",
       "       [-0.17325143,  0.17586311, -0.63625282,  0.38870891,  0.3946109 ],\n",
       "       [ 1.88009885,  0.17586311,  0.62365375, -1.07811716,  0.3946109 ],\n",
       "       [ 1.1100925 ,  0.17586311, -0.63625282, -1.07811716, -1.24960118],\n",
       "       [-1.07159218, -5.6862407 ,  0.62365375,  1.85553498, -1.24960118],\n",
       "       [ 0.34008614,  0.17586311,  0.62365375,  0.38870891,  2.03882298],\n",
       "       [-0.81492339,  0.17586311,  0.62365375,  0.38870891,  1.21671694],\n",
       "       [ 0.34008614,  0.17586311,  0.62365375,  0.38870891, -0.42749514],\n",
       "       [-1.71326414,  0.17586311,  0.62365375, -1.07811716,  0.3946109 ],\n",
       "       [-0.686589  , -5.6862407 ,  0.62365375,  0.38870891, -0.42749514],\n",
       "       [ 0.34008614,  0.17586311, -3.15606597,  0.38870891, -1.24960118],\n",
       "       [-0.55825461,  0.17586311,  0.62365375,  0.38870891,  0.3946109 ],\n",
       "       [-0.17325143,  0.17586311,  0.62365375,  1.85553498, -1.24960118],\n",
       "       [ 0.34008614,  0.17586311, -1.8961594 ,  1.85553498, -0.42749514]])"
      ]
     },
     "execution_count": 47,
     "metadata": {},
     "output_type": "execute_result"
    }
   ],
   "source": [
    "#standardizing the input dataset \n",
    "sc=StandardScaler()\n",
    "x=sc.fit_transform(x)\n",
    "x"
   ]
  },
  {
   "cell_type": "code",
   "execution_count": 48,
   "metadata": {},
   "outputs": [],
   "source": [
    "#Machine Learning Models\n",
    "models=[]\n",
    "models.append(('LR', LogisticRegression()))\n",
    "models.append(('KNN', KNeighborsClassifier()))\n",
    "models.append(('DT', tree.DecisionTreeClassifier()))\n",
    "models.append(('GNB', GaussianNB()))\n",
    "models.append(('SVC', SVC()))"
   ]
  },
  {
   "cell_type": "code",
   "execution_count": 49,
   "metadata": {},
   "outputs": [
    {
     "name": "stdout",
     "output_type": "stream",
     "text": [
      "LR\n",
      "random state:  42  accuracy score:  1.0\n",
      "random state:  43  accuracy score:  1.0\n",
      "random state:  44  accuracy score:  1.0\n",
      "random state:  45  accuracy score:  0.95\n",
      "random state:  46  accuracy score:  1.0\n",
      "random state:  47  accuracy score:  0.85\n",
      "random state:  48  accuracy score:  1.0\n",
      "random state:  49  accuracy score:  1.0\n",
      "random state:  50  accuracy score:  0.95\n",
      "random state:  51  accuracy score:  0.95\n",
      "random state:  52  accuracy score:  1.0\n",
      "random state:  53  accuracy score:  0.95\n",
      "random state:  54  accuracy score:  0.95\n",
      "random state:  55  accuracy score:  0.95\n",
      "random state:  56  accuracy score:  0.95\n",
      "random state:  57  accuracy score:  0.95\n",
      "random state:  58  accuracy score:  0.95\n",
      "random state:  59  accuracy score:  0.9\n",
      "random state:  60  accuracy score:  1.0\n",
      "random state:  61  accuracy score:  1.0\n",
      "random state:  62  accuracy score:  0.9\n",
      "random state:  63  accuracy score:  0.85\n",
      "random state:  64  accuracy score:  1.0\n",
      "random state:  65  accuracy score:  1.0\n",
      "random state:  66  accuracy score:  0.95\n",
      "random state:  67  accuracy score:  1.0\n",
      "random state:  68  accuracy score:  0.85\n",
      "random state:  69  accuracy score:  0.95\n",
      "random state:  70  accuracy score:  1.0\n",
      "random state:  71  accuracy score:  1.0\n",
      "random state:  72  accuracy score:  0.85\n",
      "random state:  73  accuracy score:  1.0\n",
      "random state:  74  accuracy score:  0.9\n",
      "random state:  75  accuracy score:  0.95\n",
      "random state:  76  accuracy score:  1.0\n",
      "random state:  77  accuracy score:  0.9\n",
      "random state:  78  accuracy score:  1.0\n",
      "random state:  79  accuracy score:  1.0\n",
      "\n",
      "max accuracy score at random state: 42  for the model  LR  is:  1.0\n",
      "\n",
      "\n",
      "KNN\n",
      "random state:  42  accuracy score:  0.85\n",
      "random state:  43  accuracy score:  0.75\n",
      "random state:  44  accuracy score:  0.65\n",
      "random state:  45  accuracy score:  0.8\n",
      "random state:  46  accuracy score:  0.7\n",
      "random state:  47  accuracy score:  0.8\n",
      "random state:  48  accuracy score:  0.8\n",
      "random state:  49  accuracy score:  0.65\n",
      "random state:  50  accuracy score:  0.8\n",
      "random state:  51  accuracy score:  0.6\n",
      "random state:  52  accuracy score:  0.75\n",
      "random state:  53  accuracy score:  0.85\n",
      "random state:  54  accuracy score:  0.85\n",
      "random state:  55  accuracy score:  0.8\n",
      "random state:  56  accuracy score:  0.85\n",
      "random state:  57  accuracy score:  0.8\n",
      "random state:  58  accuracy score:  0.55\n",
      "random state:  59  accuracy score:  0.7\n",
      "random state:  60  accuracy score:  0.9\n",
      "random state:  61  accuracy score:  0.9\n",
      "random state:  62  accuracy score:  0.75\n",
      "random state:  63  accuracy score:  0.65\n",
      "random state:  64  accuracy score:  0.85\n",
      "random state:  65  accuracy score:  0.9\n",
      "random state:  66  accuracy score:  0.8\n",
      "random state:  67  accuracy score:  0.8\n",
      "random state:  68  accuracy score:  0.8\n",
      "random state:  69  accuracy score:  0.85\n",
      "random state:  70  accuracy score:  0.95\n",
      "random state:  71  accuracy score:  0.9\n",
      "random state:  72  accuracy score:  0.7\n",
      "random state:  73  accuracy score:  0.8\n",
      "random state:  74  accuracy score:  0.7\n",
      "random state:  75  accuracy score:  0.75\n",
      "random state:  76  accuracy score:  0.75\n",
      "random state:  77  accuracy score:  0.65\n",
      "random state:  78  accuracy score:  0.95\n",
      "random state:  79  accuracy score:  0.8\n",
      "\n",
      "max accuracy score at random state: 70  for the model  KNN  is:  0.95\n",
      "\n",
      "\n",
      "DT\n",
      "random state:  42  accuracy score:  1.0\n",
      "random state:  43  accuracy score:  1.0\n",
      "random state:  44  accuracy score:  1.0\n",
      "random state:  45  accuracy score:  1.0\n",
      "random state:  46  accuracy score:  1.0\n",
      "random state:  47  accuracy score:  1.0\n",
      "random state:  48  accuracy score:  1.0\n",
      "random state:  49  accuracy score:  1.0\n",
      "random state:  50  accuracy score:  1.0\n",
      "random state:  51  accuracy score:  1.0\n",
      "random state:  52  accuracy score:  1.0\n",
      "random state:  53  accuracy score:  1.0\n",
      "random state:  54  accuracy score:  1.0\n",
      "random state:  55  accuracy score:  1.0\n",
      "random state:  56  accuracy score:  1.0\n",
      "random state:  57  accuracy score:  1.0\n",
      "random state:  58  accuracy score:  1.0\n",
      "random state:  59  accuracy score:  1.0\n",
      "random state:  60  accuracy score:  1.0\n",
      "random state:  61  accuracy score:  1.0\n",
      "random state:  62  accuracy score:  1.0\n",
      "random state:  63  accuracy score:  1.0\n",
      "random state:  64  accuracy score:  1.0\n",
      "random state:  65  accuracy score:  1.0\n",
      "random state:  66  accuracy score:  1.0\n",
      "random state:  67  accuracy score:  1.0\n",
      "random state:  68  accuracy score:  1.0\n",
      "random state:  69  accuracy score:  1.0\n",
      "random state:  70  accuracy score:  1.0\n",
      "random state:  71  accuracy score:  1.0\n",
      "random state:  72  accuracy score:  1.0\n",
      "random state:  73  accuracy score:  1.0\n",
      "random state:  74  accuracy score:  1.0\n",
      "random state:  75  accuracy score:  1.0\n",
      "random state:  76  accuracy score:  1.0\n",
      "random state:  77  accuracy score:  1.0\n",
      "random state:  78  accuracy score:  1.0\n",
      "random state:  79  accuracy score:  1.0\n",
      "\n",
      "max accuracy score at random state: 42  for the model  DT  is:  1.0\n",
      "\n",
      "\n",
      "GNB\n",
      "random state:  42  accuracy score:  1.0\n",
      "random state:  43  accuracy score:  1.0\n",
      "random state:  44  accuracy score:  1.0\n",
      "random state:  45  accuracy score:  1.0\n",
      "random state:  46  accuracy score:  1.0\n",
      "random state:  47  accuracy score:  1.0\n",
      "random state:  48  accuracy score:  1.0\n",
      "random state:  49  accuracy score:  1.0\n",
      "random state:  50  accuracy score:  1.0\n",
      "random state:  51  accuracy score:  1.0\n",
      "random state:  52  accuracy score:  1.0\n",
      "random state:  53  accuracy score:  1.0\n",
      "random state:  54  accuracy score:  1.0\n",
      "random state:  55  accuracy score:  1.0\n",
      "random state:  56  accuracy score:  1.0\n",
      "random state:  57  accuracy score:  1.0\n",
      "random state:  58  accuracy score:  1.0\n",
      "random state:  59  accuracy score:  1.0\n",
      "random state:  60  accuracy score:  1.0\n",
      "random state:  61  accuracy score:  1.0\n",
      "random state:  62  accuracy score:  1.0\n",
      "random state:  63  accuracy score:  1.0\n",
      "random state:  64  accuracy score:  1.0\n",
      "random state:  65  accuracy score:  1.0\n",
      "random state:  66  accuracy score:  1.0\n",
      "random state:  67  accuracy score:  1.0\n",
      "random state:  68  accuracy score:  1.0\n",
      "random state:  69  accuracy score:  1.0\n",
      "random state:  70  accuracy score:  1.0\n",
      "random state:  71  accuracy score:  1.0\n",
      "random state:  72  accuracy score:  1.0\n",
      "random state:  73  accuracy score:  1.0\n",
      "random state:  74  accuracy score:  1.0\n",
      "random state:  75  accuracy score:  1.0\n",
      "random state:  76  accuracy score:  1.0\n",
      "random state:  77  accuracy score:  1.0\n",
      "random state:  78  accuracy score:  1.0\n",
      "random state:  79  accuracy score:  1.0\n",
      "\n",
      "max accuracy score at random state: 42  for the model  GNB  is:  1.0\n",
      "\n",
      "\n",
      "SVC\n",
      "random state:  42  accuracy score:  1.0\n",
      "random state:  43  accuracy score:  0.95\n",
      "random state:  44  accuracy score:  1.0\n",
      "random state:  45  accuracy score:  0.95\n",
      "random state:  46  accuracy score:  1.0\n",
      "random state:  47  accuracy score:  0.9\n",
      "random state:  48  accuracy score:  1.0\n",
      "random state:  49  accuracy score:  1.0\n",
      "random state:  50  accuracy score:  1.0\n",
      "random state:  51  accuracy score:  0.95\n",
      "random state:  52  accuracy score:  0.95\n",
      "random state:  53  accuracy score:  0.95\n",
      "random state:  54  accuracy score:  1.0\n",
      "random state:  55  accuracy score:  0.95\n",
      "random state:  56  accuracy score:  0.95\n",
      "random state:  57  accuracy score:  1.0\n",
      "random state:  58  accuracy score:  0.9\n",
      "random state:  59  accuracy score:  0.95\n",
      "random state:  60  accuracy score:  0.9\n",
      "random state:  61  accuracy score:  0.95\n",
      "random state:  62  accuracy score:  0.9\n",
      "random state:  63  accuracy score:  0.9\n",
      "random state:  64  accuracy score:  0.95\n",
      "random state:  65  accuracy score:  0.95\n",
      "random state:  66  accuracy score:  1.0\n",
      "random state:  67  accuracy score:  1.0\n",
      "random state:  68  accuracy score:  0.85\n",
      "random state:  69  accuracy score:  0.95\n",
      "random state:  70  accuracy score:  0.95\n",
      "random state:  71  accuracy score:  1.0\n",
      "random state:  72  accuracy score:  0.9\n",
      "random state:  73  accuracy score:  1.0\n",
      "random state:  74  accuracy score:  0.9\n",
      "random state:  75  accuracy score:  1.0\n",
      "random state:  76  accuracy score:  1.0\n",
      "random state:  77  accuracy score:  0.95\n",
      "random state:  78  accuracy score:  0.95\n",
      "random state:  79  accuracy score:  0.95\n",
      "\n",
      "max accuracy score at random state: 42  for the model  SVC  is:  1.0\n",
      "\n",
      "\n"
     ]
    }
   ],
   "source": [
    "accuracy_results = []\n",
    "names = []\n",
    "for name, model in models:\n",
    "    print(name)\n",
    "    max_acc_score=0\n",
    "    for r_state in range(42,80):\n",
    "        x_train,x_test,y_train,y_test=train_test_split(x,y,random_state=r_state,test_size=0.10)\n",
    "        model_name=model\n",
    "        model_name.fit(x_train,y_train)\n",
    "        y_pred=model_name.predict(x_test)\n",
    "        accuracy_scr=accuracy_score(y_test,y_pred)\n",
    "        print(\"random state: \",r_state,\" accuracy score: \",accuracy_scr)\n",
    "        if accuracy_scr>max_acc_score:\n",
    "            max_acc_score=accuracy_scr      \n",
    "            final_r_state=r_state\n",
    "    accuracy_results.append(max_acc_score*100)        \n",
    "    print()\n",
    "    print(\"max accuracy score at random state:\",final_r_state,\" for the model \",name,\" is: \",max_acc_score)\n",
    "    print()\n",
    "    print()"
   ]
  },
  {
   "cell_type": "code",
   "execution_count": 50,
   "metadata": {},
   "outputs": [
    {
     "name": "stdout",
     "output_type": "stream",
     "text": [
      "Model name:  LR\n",
      "Cross Validation Score(Mean):  0.9444444444444444\n",
      "Cross Validation Score(Std):  0.01756820922315767\n",
      "\n",
      "Model name:  KNN\n",
      "Cross Validation Score(Mean):  0.7444444444444445\n",
      "Cross Validation Score(Std):  0.05931710140017398\n",
      "\n",
      "Model name:  DT\n",
      "Cross Validation Score(Mean):  1.0\n",
      "Cross Validation Score(Std):  0.0\n",
      "\n",
      "Model name:  GNB\n",
      "Cross Validation Score(Mean):  1.0\n",
      "Cross Validation Score(Std):  0.0\n",
      "\n",
      "Model name:  SVC\n",
      "Cross Validation Score(Mean):  0.95\n",
      "Cross Validation Score(Std):  0.020786985482077462\n",
      "\n"
     ]
    }
   ],
   "source": [
    "#cross_val of the models\n",
    "results = []\n",
    "names = []\n",
    "cvs=[]\n",
    "for name, model in models:\n",
    "    cv_result=cross_val_score(model, x_train, y_train, cv=5, scoring=\"accuracy\")\n",
    "    results.append(cv_result)\n",
    "    names.append(name)\n",
    "    print(\"Model name: \",name)\n",
    "    print(\"Cross Validation Score(Mean): \",cv_result.mean())\n",
    "    cvs.append(cv_result.mean()*100)\n",
    "    print(\"Cross Validation Score(Std): \",cv_result.std())\n",
    "    print()"
   ]
  },
  {
   "cell_type": "code",
   "execution_count": 51,
   "metadata": {},
   "outputs": [
    {
     "data": {
      "text/html": [
       "<div>\n",
       "<style scoped>\n",
       "    .dataframe tbody tr th:only-of-type {\n",
       "        vertical-align: middle;\n",
       "    }\n",
       "\n",
       "    .dataframe tbody tr th {\n",
       "        vertical-align: top;\n",
       "    }\n",
       "\n",
       "    .dataframe thead th {\n",
       "        text-align: right;\n",
       "    }\n",
       "</style>\n",
       "<table border=\"1\" class=\"dataframe\">\n",
       "  <thead>\n",
       "    <tr style=\"text-align: right;\">\n",
       "      <th></th>\n",
       "      <th>Model</th>\n",
       "      <th>Accuracy_Score</th>\n",
       "      <th>Cross_Validation_Score</th>\n",
       "    </tr>\n",
       "  </thead>\n",
       "  <tbody>\n",
       "    <tr>\n",
       "      <th>0</th>\n",
       "      <td>(LR, LogisticRegression(C=1.0, class_weight=No...</td>\n",
       "      <td>100.0</td>\n",
       "      <td>94.444444</td>\n",
       "    </tr>\n",
       "    <tr>\n",
       "      <th>1</th>\n",
       "      <td>(KNN, KNeighborsClassifier(algorithm='auto', l...</td>\n",
       "      <td>95.0</td>\n",
       "      <td>74.444444</td>\n",
       "    </tr>\n",
       "    <tr>\n",
       "      <th>2</th>\n",
       "      <td>(DT, DecisionTreeClassifier(ccp_alpha=0.0, cla...</td>\n",
       "      <td>100.0</td>\n",
       "      <td>100.000000</td>\n",
       "    </tr>\n",
       "    <tr>\n",
       "      <th>3</th>\n",
       "      <td>(GNB, GaussianNB(priors=None, var_smoothing=1e...</td>\n",
       "      <td>100.0</td>\n",
       "      <td>100.000000</td>\n",
       "    </tr>\n",
       "    <tr>\n",
       "      <th>4</th>\n",
       "      <td>(SVC, SVC(C=1.0, break_ties=False, cache_size=...</td>\n",
       "      <td>100.0</td>\n",
       "      <td>95.000000</td>\n",
       "    </tr>\n",
       "  </tbody>\n",
       "</table>\n",
       "</div>"
      ],
      "text/plain": [
       "                                               Model  Accuracy_Score  \\\n",
       "0  (LR, LogisticRegression(C=1.0, class_weight=No...           100.0   \n",
       "1  (KNN, KNeighborsClassifier(algorithm='auto', l...            95.0   \n",
       "2  (DT, DecisionTreeClassifier(ccp_alpha=0.0, cla...           100.0   \n",
       "3  (GNB, GaussianNB(priors=None, var_smoothing=1e...           100.0   \n",
       "4  (SVC, SVC(C=1.0, break_ties=False, cache_size=...           100.0   \n",
       "\n",
       "   Cross_Validation_Score  \n",
       "0               94.444444  \n",
       "1               74.444444  \n",
       "2              100.000000  \n",
       "3              100.000000  \n",
       "4               95.000000  "
      ]
     },
     "execution_count": 51,
     "metadata": {},
     "output_type": "execute_result"
    }
   ],
   "source": [
    "#checking for the best results\n",
    "result=pd.DataFrame({'Model':models,'Accuracy_Score':accuracy_results, 'Cross_Validation_Score':cvs})\n",
    "result"
   ]
  },
  {
   "cell_type": "code",
   "execution_count": 53,
   "metadata": {},
   "outputs": [
    {
     "name": "stdout",
     "output_type": "stream",
     "text": [
      "accuracy score:  1.0\n",
      "confusion matrix: \n",
      "[[3 0 0 0]\n",
      " [0 5 0 0]\n",
      " [0 0 6 0]\n",
      " [0 0 0 6]]\n",
      "classification report: \n",
      "              precision    recall  f1-score   support\n",
      "\n",
      "           0       1.00      1.00      1.00         3\n",
      "           1       1.00      1.00      1.00         5\n",
      "           2       1.00      1.00      1.00         6\n",
      "           3       1.00      1.00      1.00         6\n",
      "\n",
      "    accuracy                           1.00        20\n",
      "   macro avg       1.00      1.00      1.00        20\n",
      "weighted avg       1.00      1.00      1.00        20\n",
      "\n",
      "[3 0 3 2 0 3 1 1 0 2 3 1 3 2 3 2 2 1 2 1]\n"
     ]
    }
   ],
   "source": [
    "#Choosing the Best Model\n",
    "x_train,x_test,y_train,y_test=train_test_split(x,y,random_state=42,test_size=0.10)\n",
    "model_name=LogisticRegression()\n",
    "model_name.fit(x_train,y_train)\n",
    "model_name.score(x_train,y_train)\n",
    "y_pred_model=model_name.predict(x_test)\n",
    "accuracy_scr=accuracy_score(y_test,y_pred_model)\n",
    "cfm=confusion_matrix(y_test,y_pred_model)\n",
    "cr=classification_report(y_test,y_pred_model)\n",
    "print(\"accuracy score: \",accuracy_scr)\n",
    "print(\"confusion matrix: \")\n",
    "print(cfm)\n",
    "print(\"classification report: \")\n",
    "print(cr)\n",
    "print(y_pred_model)"
   ]
  },
  {
   "cell_type": "code",
   "execution_count": 54,
   "metadata": {},
   "outputs": [],
   "source": [
    "#saving the model as pickle in a file\n",
    "pickle.dump(model_name,open('SVC_heartdisease_df.pkl','wb'))"
   ]
  },
  {
   "cell_type": "code",
   "execution_count": 55,
   "metadata": {},
   "outputs": [
    {
     "data": {
      "text/plain": [
       "array([3, 0, 3, 2, 0, 3, 1, 1, 0, 2, 3, 1, 3, 2, 3, 2, 2, 1, 2, 1],\n",
       "      dtype=int64)"
      ]
     },
     "execution_count": 55,
     "metadata": {},
     "output_type": "execute_result"
    }
   ],
   "source": [
    "#loading the model for testing\n",
    "loaded_model=pickle.load(open('SVC_heartdisease_df.pkl','rb'))\n",
    "loaded_model.predict(x_test)"
   ]
  },
  {
   "cell_type": "code",
   "execution_count": null,
   "metadata": {},
   "outputs": [],
   "source": []
  }
 ],
 "metadata": {
  "kernelspec": {
   "display_name": "Python 3",
   "language": "python",
   "name": "python3"
  },
  "language_info": {
   "codemirror_mode": {
    "name": "ipython",
    "version": 3
   },
   "file_extension": ".py",
   "mimetype": "text/x-python",
   "name": "python",
   "nbconvert_exporter": "python",
   "pygments_lexer": "ipython3",
   "version": "3.7.6"
  }
 },
 "nbformat": 4,
 "nbformat_minor": 4
}
